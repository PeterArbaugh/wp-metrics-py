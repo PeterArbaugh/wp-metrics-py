{
 "cells": [
  {
   "cell_type": "code",
   "execution_count": 57,
   "metadata": {},
   "outputs": [],
   "source": [
    "import pandas as pd\n",
    "\n",
    "# date and time handling\n",
    "from datetime import datetime, date\n",
    "from dateutil.relativedelta import relativedelta"
   ]
  },
  {
   "cell_type": "code",
   "execution_count": 58,
   "metadata": {},
   "outputs": [],
   "source": [
    "sites = pd.read_csv('non_deleted 11_6_2018.csv')\n",
    "ga = pd.read_csv('Analytics All Web Site Data Content Drilldown 20171105-20181105.csv', thousands=',')\n",
    "ts = pd.read_csv('theme status.csv')\n",
    "st = pd.read_csv('updateSiteType 20180917.csv')\n",
    "ps = pd.read_csv('plugin status.csv')\n",
    "pl = pd.read_csv('plugins 11_6_2018.csv')"
   ]
  },
  {
   "cell_type": "code",
   "execution_count": 59,
   "metadata": {},
   "outputs": [],
   "source": [
    "# theme accessibility status\n",
    "sites = pd.merge(sites, ts, on='current_theme')"
   ]
  },
  {
   "cell_type": "code",
   "execution_count": 61,
   "metadata": {},
   "outputs": [],
   "source": [
    "# clean and merge GA data\n",
    "ga.drop(['Bounce Rate', '% Exit'], axis=1, inplace=True)\n",
    "sites = pd.merge(sites, ga, left_on='blog_url', right_on='Page path level 1', how='left')\n",
    "sites.drop(['Page path level 1'], axis=1, inplace=True)\n",
    "\n",
    "# set NaNs to 0 - no traffic on site\n",
    "sites[['Pageviews', 'Unique Pageviews', 'Avg. Time on Page']] \\\n",
    "= sites[['Pageviews', 'Unique Pageviews', 'Avg. Time on Page']].fillna(0)"
   ]
  },
  {
   "cell_type": "code",
   "execution_count": 63,
   "metadata": {},
   "outputs": [],
   "source": [
    "# bring in manually categorized sites\n",
    "sites.drop('site_type', axis=1,inplace=True)\n",
    "st.drop('url', axis=1, inplace=True)\n",
    "sites = pd.merge(sites, st, on='blog_id')"
   ]
  },
  {
   "cell_type": "code",
   "execution_count": 64,
   "metadata": {},
   "outputs": [],
   "source": [
    "# bring in plugins with activation status and accessibility counts for each site\n",
    "'''\n",
    "plugin_list is derived from:\n",
    "int64_columns = pl.select_dtypes([np.number]).columns\n",
    "int64_columns\n",
    "'''\n",
    "plugin_list = ['aesop-story-engine', 'akismet', 'attachment-importer',\n",
    "       'autoblog', 'bbpress', 'bwp-minify', 'comment-image',\n",
    "       'contus-video-gallery', 'custom-sidebars', 'display-posts-shortcode',\n",
    "       'duplicate-post', 'editorial-access-manager', 'email-users',\n",
    "       'embed-webmap', 'enable-media-replace', 'every-calendar-1',\n",
    "       'feedwordpress', 'footnotes', 'google-document-embedder', 'gutenberg',\n",
    "       'iframe', 'image-wall', 'import-users-from-csv', 'jetpack',\n",
    "       'leaflet-maps-marker', 'legacy-jetpack-custom-css-editor', 'lock-posts',\n",
    "       'login-logout-register-menu', 'nextgen-gallery',\n",
    "       'photo-video-gallery-master', 'pinterest-rss-widget',\n",
    "       'post-type-switcher', 'shibboleth-fix', 'simple-mathjax',\n",
    "       'subscribe-by-email', 'syntaxhighlighter', 'the-events-calendar',\n",
    "       'tt-guest-post-submit', 'tumblr-widget-for-wordpress',\n",
    "       'user-submitted-posts', 'wp-accessibility', 'wp-gallery-custom-links',\n",
    "       'wp-pro-quiz', 'wp-recaptcha', 'wp-views', 'wpmu-dev-post-votes',\n",
    "       'wpmu_dev_maps_plugin', 'yop-poll', 'zotpress',\n",
    "        'scriptless-social-sharing','social-icons']\n",
    "\n",
    "# iterate through columns and convert data type to bool\n",
    "for col in plugin_list:\n",
    "    pl[col] = pl[col].astype(bool)\n",
    "    \n",
    "# create list of inaccessible, user-activated plugins\n",
    "f_inac_p = ps['Plugin'].loc[(ps['Frontend Accessible'] == 'No') & \\\n",
    "                                (ps['Network Active'] == 'No')].tolist()\n",
    "\n",
    "# create list of all inaccessible plugins\n",
    "inac_p = ps['Plugin'].loc[ps['Accessible'] == 'No'].tolist()\n",
    "\n",
    "# count active plugins on site\n",
    "pl['total active'] = pl[plugin_list].sum(axis=1)\n",
    "\n",
    "# count inaccessible, user activated plugins per site\n",
    "pl['front inacc plugins'] = pl[f_inac_p].sum(axis=1)\n",
    "pl['inacc plugins'] = pl[inac_p].sum(axis=1)\n",
    "\n",
    "# prep plugins df to merge into main sites df\n",
    "pl.drop(['domain', 'path', 'registered', 'last_updated', 'admin_email', 'theme'], axis=1, inplace=True)\n",
    "\n",
    "# join to sites df\n",
    "sites = pd.merge(sites, pl, on='blog_id')"
   ]
  },
  {
   "cell_type": "code",
   "execution_count": 91,
   "metadata": {},
   "outputs": [
    {
     "data": {
      "text/plain": [
       "array(['blog_id', 'blog_name', 'blog_description', 'siteurl', 'blog_url',\n",
       "       'privacy descr', 'has_accessibility_footer', 'admin_email',\n",
       "       'users_count', 'active_plugins_count', 'db_version',\n",
       "       'current_theme', 'custom_css', 'registered', 'last_updated',\n",
       "       'archived', 'posts_count', 'pages_count', 'comments_count',\n",
       "       'attachments_count', 'owner', 'site owner role', 'admin users',\n",
       "       'template', 'Google Drive embeds (count)',\n",
       "       'Google Docs embeds (count)', 'Google Sheets embeds (count)',\n",
       "       'Google Slides embeds (count)', 'Google Calendar embeds (count)',\n",
       "       'Google Groups embeds (count)', 'Google Hangouts embeds (count)',\n",
       "       'Google Sites embeds (count)', 'NYU Stream embeds (count)',\n",
       "       'accessible', 'Pageviews', 'Unique Pageviews', 'Avg. Time on Page',\n",
       "       'site type', 'aesop-story-engine', 'akismet',\n",
       "       'attachment-importer', 'auto-subscribe-users', 'autoblog',\n",
       "       'avatars', 'bbpress', 'blogtemplates', 'bwp-minify',\n",
       "       'comment-image', 'contus-video-gallery', 'custom-add-user',\n",
       "       'custom-sidebars', 'default-theme', 'display-posts-shortcode',\n",
       "       'duplicate-post', 'easy-fancybox', 'editorial-access-manager',\n",
       "       'email-users', 'embed-webmap', 'enable-media-replace',\n",
       "       'every-calendar-1', 'feedwordpress', 'fix-bbpress', 'footnotes',\n",
       "       'genesis-fix-for-nyu', 'google-analytics-async',\n",
       "       'google-document-embedder', 'gutenberg', 'iframe', 'image-wall',\n",
       "       'import-users-from-csv', 'jetpack', 'jetpack-module-control',\n",
       "       'leaflet-maps-marker', 'legacy-jetpack-custom-css-editor',\n",
       "       'lock-posts', 'login-logout-register-menu', 'multisite-custom-css',\n",
       "       'multisite-iframes', 'multisite-plugin-manager',\n",
       "       'multisite-theme-manager', 'ncsu-a11y-helper', 'nextgen-gallery',\n",
       "       'nyu-blocks', 'nyu-cachebreaker',\n",
       "       'nyu-shibboleth-sitewide-privacy', 'nyu-stream-embed',\n",
       "       'options-framework', 'photo-video-gallery-master',\n",
       "       'pinterest-rss-widget', 'post-type-switcher', 'pretty-plugins',\n",
       "       'relevanssi-premium', 'remove-wp-dashboard-widgets',\n",
       "       'scriptless-social-sharing', 'shibboleth-fix', 'simple-mathjax',\n",
       "       'site-setup-wizard', 'sitewide-privacy-options', 'social-icons',\n",
       "       'ssl-insecure-content-fixer', 'subscribe-by-email',\n",
       "       'syntaxhighlighter', 'the-events-calendar', 'tinymce-advanced',\n",
       "       'tt-guest-post-submit', 'tumblr-widget-for-wordpress',\n",
       "       'ultimate-branding', 'user-submitted-posts', 'user-switching',\n",
       "       'wordpress-importer', 'wp-accessibility',\n",
       "       'wp-gallery-custom-links', 'wp-pro-quiz', 'wp-recaptcha',\n",
       "       'wp-shibboleth-logout-redirect', 'wp-smush-pro', 'wp-views',\n",
       "       'wpmu-dev-post-votes', 'wpmu_dev_maps_plugin', 'wpmudev-updates',\n",
       "       'wpmudev-videos', 'yop-poll', 'zero-spam', 'zotpress',\n",
       "       'total active', 'front inacc plugins', 'inacc plugins', 'active'],\n",
       "      dtype=object)"
      ]
     },
     "execution_count": 91,
     "metadata": {},
     "output_type": "execute_result"
    }
   ],
   "source": [
    "sites.columns.values"
   ]
  },
  {
   "cell_type": "code",
   "execution_count": 65,
   "metadata": {},
   "outputs": [],
   "source": [
    "# convert registered and lastmod to datetime for analysis\n",
    "sites['registered'] = pd.to_datetime(sites['registered'])\n",
    "sites['last_updated'] = pd.to_datetime(sites['last_updated'])"
   ]
  },
  {
   "cell_type": "code",
   "execution_count": 66,
   "metadata": {},
   "outputs": [],
   "source": [
    "'''\n",
    "create function to define active sites\n",
    "r = creation (registered) timestamp\n",
    "l = last_updated timestamp\n",
    "ap = admin pageviews\n",
    "tp = total pageviews\n",
    "\n",
    "r_date = will check if site was created more than 1yr before this date\n",
    "l_date = will check if site was modified more than 1yr before this date\n",
    "tp_min = minimum number of total pageviews to be considered active\n",
    "ap_min = minimum number of admin pageviews to be considered active\n",
    "''' \n",
    "\n",
    "r_date = date(2018,11,5) \n",
    "l_date = date(2018,11,5)\n",
    "tp_min = 2\n",
    "\n",
    "def check_active(r, l, tp):\n",
    "    if r < pd.Timestamp(r_date) - relativedelta(years=1) and \\\n",
    "    l < pd.Timestamp(l_date) - relativedelta(years=1) and \\\n",
    "    tp < tp_min:\n",
    "        return False \n",
    "    else:\n",
    "        return True"
   ]
  },
  {
   "cell_type": "code",
   "execution_count": 67,
   "metadata": {},
   "outputs": [],
   "source": [
    "# apply check_active to all sites and mark with bool\n",
    "sites['active'] = sites.apply(lambda row: check_active(row['registered'], row['last_updated'], row['Pageviews']),axis=1)\n"
   ]
  },
  {
   "cell_type": "code",
   "execution_count": 86,
   "metadata": {},
   "outputs": [],
   "source": [
    "# convert 'has_accessibility_footer' to bool.\n",
    "# all archived sites and other N/As will become False\n",
    "sites['has_accessibility_footer'] = sites['has_accessibility_footer']=='true'"
   ]
  },
  {
   "cell_type": "code",
   "execution_count": 95,
   "metadata": {},
   "outputs": [
    {
     "data": {
      "text/plain": [
       "Teaching & Learning    306\n",
       "Portfolio              268\n",
       "Administrative         107\n",
       "Research                79\n",
       "Site Deleted             1\n",
       "Name: site type, dtype: int64"
      ]
     },
     "execution_count": 95,
     "metadata": {},
     "output_type": "execute_result"
    }
   ],
   "source": [
    "# Question: how many active public facing inaccessible sites do we have for each site type?\n",
    "sites['site type'].loc[(sites['active'] == True) & \\\n",
    "                      (sites['accessible'] == False) &\\\n",
    "                      (sites['has_accessibility_footer'] == False) &\\\n",
    "                      (sites['inacc plugins'] > 0) &\\\n",
    "                      ((sites['privacy descr'] == 'Public') |\\\n",
    "                       (sites['privacy descr'] == 'Hidden'))].value_counts()"
   ]
  },
  {
   "cell_type": "code",
   "execution_count": 97,
   "metadata": {},
   "outputs": [
    {
     "data": {
      "text/plain": [
       "Teaching & Learning    1470\n",
       "Portfolio              1295\n",
       "Administrative          319\n",
       "Research                302\n",
       "Site Deleted             66\n",
       "Name: site type, dtype: int64"
      ]
     },
     "execution_count": 97,
     "metadata": {},
     "output_type": "execute_result"
    }
   ],
   "source": [
    "# Question: how many total public facing inaccessible sites do we have for each site type?\n",
    "sites['site type'].loc[((sites['accessible'] == False) |\\\n",
    "                      (sites['has_accessibility_footer'] == False) |\\\n",
    "                      (sites['inacc plugins'] > 0)) &\\\n",
    "                      ((sites['privacy descr'] == 'Public') |\\\n",
    "                       (sites['privacy descr'] == 'Hidden'))].value_counts()"
   ]
  },
  {
   "cell_type": "code",
   "execution_count": 100,
   "metadata": {},
   "outputs": [
    {
     "data": {
      "text/plain": [
       "Portfolio              963\n",
       "Teaching & Learning    772\n",
       "Research               245\n",
       "Administrative         193\n",
       "Site Deleted            48\n",
       "Name: site type, dtype: int64"
      ]
     },
     "execution_count": 100,
     "metadata": {},
     "output_type": "execute_result"
    }
   ],
   "source": [
    "# Question: how many public (and search indexed) inaccessible sites do we have for each site type?\n",
    "sites['site type'].loc[((sites['accessible'] == False) |\\\n",
    "                      (sites['has_accessibility_footer'] == False) |\\\n",
    "                      (sites['inacc plugins'] > 0)) &\\\n",
    "                      (sites['privacy descr'] == 'Public')].value_counts()"
   ]
  },
  {
   "cell_type": "code",
   "execution_count": 103,
   "metadata": {},
   "outputs": [
    {
     "data": {
      "text/plain": [
       "Portfolio              949\n",
       "Teaching & Learning    747\n",
       "Research               238\n",
       "Administrative         176\n",
       "Site Deleted            48\n",
       "Name: site type, dtype: int64"
      ]
     },
     "execution_count": 103,
     "metadata": {},
     "output_type": "execute_result"
    }
   ],
   "source": [
    "# Question: how many public inaccessible sites do we have for each site type?\n",
    "# without plugins\n",
    "sites['site type'].loc[((sites['accessible'] == False) |\\\n",
    "                      (sites['has_accessibility_footer'] == False) |\\\n",
    "                      (sites['inacc plugins'] == 0)) &\\\n",
    "                      (sites['privacy descr'] == 'Public')].value_counts()"
   ]
  },
  {
   "cell_type": "code",
   "execution_count": 105,
   "metadata": {},
   "outputs": [
    {
     "data": {
      "text/plain": [
       "Portfolio              318\n",
       "Teaching & Learning    215\n",
       "Research                58\n",
       "Administrative          25\n",
       "Name: site type, dtype: int64"
      ]
     },
     "execution_count": 105,
     "metadata": {},
     "output_type": "execute_result"
    }
   ],
   "source": [
    "# Question: how many inactive public inaccessible sites do we have for each site type?\n",
    "# without plugins\n",
    "sites['site type'].loc[(sites['active'] == False) & \\\n",
    "                       ((sites['accessible'] == False) |\\\n",
    "                      (sites['has_accessibility_footer'] == False) |\\\n",
    "                      (sites['inacc plugins'] > 0)) &\\\n",
    "                      (sites['privacy descr'] == 'Public')].value_counts()"
   ]
  },
  {
   "cell_type": "code",
   "execution_count": null,
   "metadata": {},
   "outputs": [],
   "source": []
  }
 ],
 "metadata": {
  "kernelspec": {
   "display_name": "Python 3",
   "language": "python",
   "name": "python3"
  },
  "language_info": {
   "codemirror_mode": {
    "name": "ipython",
    "version": 3
   },
   "file_extension": ".py",
   "mimetype": "text/x-python",
   "name": "python",
   "nbconvert_exporter": "python",
   "pygments_lexer": "ipython3",
   "version": "3.6.5"
  }
 },
 "nbformat": 4,
 "nbformat_minor": 2
}
