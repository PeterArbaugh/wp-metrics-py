{
 "cells": [
  {
   "cell_type": "markdown",
   "metadata": {},
   "source": [
    "# NYU Web Publishing: Site Setup Wizard\n",
    "\n",
    "A current project for the NYU Web Publishing platform is the design and development of a new site creation workflow.  My goal with this project is to create a workflow that results in fewer abandoned sites. We currently have a large number of abandoned sites within our network and we're unable to retire them due to resource constraints.\n",
    "\n",
    "However, before design can even start, I needed to understand how the current site creation process is being used.  The current process is implemented as [a plugin by Neel Shah](https://github.com/neelakansha85/site-setup-wizard).  For reference, the process has 4 steps:\n",
    "1. User selects one of these use cases for their site: Teaching & Learning, Portfolio, Administrative, or Research. This doesn't change any part of the process, it simply provides us with that data.\n",
    "2. Users fill out a form to specify URL, site title, and privacy settings.\n",
    "3. Theme selection.\n",
    "4. Select plugins. This step is said to be optional in UX text.\n",
    "5. Process completed. Users receive a link to their new site.\n",
    "\n",
    "There is one way around this module for creating copies of other sites, so while the majority of sites are created through the above process, not all are.\n",
    "\n",
    "Based on my understanding of this process, I wanted to know the following:\n",
    "* How many sites creation processes were abandoned?\n",
    "* Where do users abandon the process?\n",
    "* what kinds of users (students, faculty, or administrators) create sites?\n",
    "* What kinds of users abandon?\n",
    "* How long do users spend on creating their sites?\n",
    "* How many sites do users usually create?\n",
    "\n",
    "Many of these questions were focused on defining the user groups that I wanted to focus on when collecting qualitiative data.  The primary customer in university academic technology is usually thought to be faculty, but I'm always suspicious considering the size of the student population.\n",
    "\n",
    "Now, for the data:"
   ]
  },
  {
   "cell_type": "code",
   "execution_count": 1,
   "metadata": {},
   "outputs": [],
   "source": [
    "# Standard imports for wrangling and visualization.\n",
    "import pandas as pd\n",
    "import numpy as np\n",
    "import matplotlib.pyplot as plt\n",
    "import seaborn as sns\n",
    "%matplotlib inline\n",
    "\n",
    "# date and time handling\n",
    "from datetime import datetime, date\n",
    "from dateutil.relativedelta import relativedelta"
   ]
  },
  {
   "cell_type": "markdown",
   "metadata": {},
   "source": [
    "When I initially ran this analysis, I was pulling data from 3 different sources:\n",
    "1. The core dataframe was from the Site Setup Wizard (SSW) table in the product database. This records transactions through the creation process.\n",
    "2. User data from the wp_users table in WordPress multisite, the underlying technology of our product. This was important as it contained the unique user_id assigned to each user.\n",
    "3. User role information. Using the login information from wp_users, I was able to pull semi-complete data about each user from the university Student Information System (SIS).\n",
    "\n",
    "I cleaned and merged the above data sources, a process I've left out here due to the amount of PII involved.  For our purposes I've created an anonymized version of the output of that process with dummy logins and site titles.  "
   ]
  },
  {
   "cell_type": "code",
   "execution_count": 2,
   "metadata": {},
   "outputs": [],
   "source": [
    "df = pd.read_csv('anon_data.csv')"
   ]
  },
  {
   "cell_type": "code",
   "execution_count": 3,
   "metadata": {},
   "outputs": [
    {
     "data": {
      "text/html": [
       "<div>\n",
       "<style scoped>\n",
       "    .dataframe tbody tr th:only-of-type {\n",
       "        vertical-align: middle;\n",
       "    }\n",
       "\n",
       "    .dataframe tbody tr th {\n",
       "        vertical-align: top;\n",
       "    }\n",
       "\n",
       "    .dataframe thead th {\n",
       "        text-align: right;\n",
       "    }\n",
       "</style>\n",
       "<table border=\"1\" class=\"dataframe\">\n",
       "  <thead>\n",
       "    <tr style=\"text-align: right;\">\n",
       "      <th></th>\n",
       "      <th>ssw_id</th>\n",
       "      <th>user_id</th>\n",
       "      <th>u_role</th>\n",
       "      <th>u_division</th>\n",
       "      <th>title</th>\n",
       "      <th>privacy</th>\n",
       "      <th>template</th>\n",
       "      <th>theme</th>\n",
       "      <th>plugins_list</th>\n",
       "      <th>next_stage</th>\n",
       "      <th>site_type</th>\n",
       "      <th>blog_id</th>\n",
       "      <th>ssw_main_meta</th>\n",
       "      <th>site_created</th>\n",
       "      <th>wizard_completed</th>\n",
       "      <th>starttime</th>\n",
       "      <th>endtime</th>\n",
       "      <th>anon_login</th>\n",
       "    </tr>\n",
       "  </thead>\n",
       "  <tbody>\n",
       "    <tr>\n",
       "      <th>0</th>\n",
       "      <td>3631</td>\n",
       "      <td>4638</td>\n",
       "      <td>Student</td>\n",
       "      <td>College of Arts and Science (undergraduate)</td>\n",
       "      <td>Manager clear world always price friend.</td>\n",
       "      <td>1.0</td>\n",
       "      <td>NaN</td>\n",
       "      <td>NaN</td>\n",
       "      <td>a:3:{i:0;s:31:\\bu-navigation/bu-navigation.php...</td>\n",
       "      <td>ssw_finish</td>\n",
       "      <td>Personal</td>\n",
       "      <td>3015.0</td>\n",
       "      <td>NaN</td>\n",
       "      <td>1</td>\n",
       "      <td>1</td>\n",
       "      <td>2015-11-09 14:30:15</td>\n",
       "      <td>2015-11-09 14:39:07</td>\n",
       "      <td>darlene04</td>\n",
       "    </tr>\n",
       "    <tr>\n",
       "      <th>1</th>\n",
       "      <td>3632</td>\n",
       "      <td>8051</td>\n",
       "      <td>Other</td>\n",
       "      <td>School of Law</td>\n",
       "      <td>Hot pick light glass street home dinner.</td>\n",
       "      <td>-2.0</td>\n",
       "      <td>NaN</td>\n",
       "      <td>NaN</td>\n",
       "      <td>a:0:{}</td>\n",
       "      <td>ssw_finish</td>\n",
       "      <td>Teaching/Learning/Research</td>\n",
       "      <td>3016.0</td>\n",
       "      <td>NaN</td>\n",
       "      <td>1</td>\n",
       "      <td>1</td>\n",
       "      <td>2015-11-09 21:26:23</td>\n",
       "      <td>2015-11-09 21:30:01</td>\n",
       "      <td>warren20</td>\n",
       "    </tr>\n",
       "    <tr>\n",
       "      <th>2</th>\n",
       "      <td>3634</td>\n",
       "      <td>4562</td>\n",
       "      <td>Staff</td>\n",
       "      <td>NYU IT</td>\n",
       "      <td>Enjoy reduce provide lead spring attention pol...</td>\n",
       "      <td>NaN</td>\n",
       "      <td>NaN</td>\n",
       "      <td>NaN</td>\n",
       "      <td>NaN</td>\n",
       "      <td>ssw_step2</td>\n",
       "      <td>Personal</td>\n",
       "      <td>NaN</td>\n",
       "      <td>NaN</td>\n",
       "      <td>0</td>\n",
       "      <td>0</td>\n",
       "      <td>2015-11-10 11:07:50</td>\n",
       "      <td>2015-11-10 11:07:50</td>\n",
       "      <td>xwood</td>\n",
       "    </tr>\n",
       "    <tr>\n",
       "      <th>3</th>\n",
       "      <td>3635</td>\n",
       "      <td>8051</td>\n",
       "      <td>Other</td>\n",
       "      <td>School of Law</td>\n",
       "      <td>Maintain himself population rate by.</td>\n",
       "      <td>-2.0</td>\n",
       "      <td>NaN</td>\n",
       "      <td>NaN</td>\n",
       "      <td>a:0:{}</td>\n",
       "      <td>ssw_finish</td>\n",
       "      <td>Teaching/Learning/Research</td>\n",
       "      <td>3017.0</td>\n",
       "      <td>NaN</td>\n",
       "      <td>1</td>\n",
       "      <td>1</td>\n",
       "      <td>2015-11-10 11:24:52</td>\n",
       "      <td>2015-11-10 11:25:44</td>\n",
       "      <td>warren20</td>\n",
       "    </tr>\n",
       "    <tr>\n",
       "      <th>4</th>\n",
       "      <td>3636</td>\n",
       "      <td>7729</td>\n",
       "      <td>Staff</td>\n",
       "      <td>NYU IT</td>\n",
       "      <td>Race friend beyond activity. Writer several ma...</td>\n",
       "      <td>-2.0</td>\n",
       "      <td>NaN</td>\n",
       "      <td>NaN</td>\n",
       "      <td>a:0:{}</td>\n",
       "      <td>ssw_finish</td>\n",
       "      <td>Administrative</td>\n",
       "      <td>3018.0</td>\n",
       "      <td>NaN</td>\n",
       "      <td>1</td>\n",
       "      <td>1</td>\n",
       "      <td>2015-11-10 11:44:30</td>\n",
       "      <td>2015-11-10 11:48:44</td>\n",
       "      <td>kevin06</td>\n",
       "    </tr>\n",
       "  </tbody>\n",
       "</table>\n",
       "</div>"
      ],
      "text/plain": [
       "   ssw_id  user_id   u_role                                   u_division  \\\n",
       "0    3631     4638  Student  College of Arts and Science (undergraduate)   \n",
       "1    3632     8051    Other                                School of Law   \n",
       "2    3634     4562    Staff                                       NYU IT   \n",
       "3    3635     8051    Other                                School of Law   \n",
       "4    3636     7729    Staff                                       NYU IT   \n",
       "\n",
       "                                               title  privacy  template theme  \\\n",
       "0           Manager clear world always price friend.      1.0       NaN   NaN   \n",
       "1           Hot pick light glass street home dinner.     -2.0       NaN   NaN   \n",
       "2  Enjoy reduce provide lead spring attention pol...      NaN       NaN   NaN   \n",
       "3               Maintain himself population rate by.     -2.0       NaN   NaN   \n",
       "4  Race friend beyond activity. Writer several ma...     -2.0       NaN   NaN   \n",
       "\n",
       "                                        plugins_list  next_stage  \\\n",
       "0  a:3:{i:0;s:31:\\bu-navigation/bu-navigation.php...  ssw_finish   \n",
       "1                                             a:0:{}  ssw_finish   \n",
       "2                                                NaN   ssw_step2   \n",
       "3                                             a:0:{}  ssw_finish   \n",
       "4                                             a:0:{}  ssw_finish   \n",
       "\n",
       "                    site_type  blog_id  ssw_main_meta  site_created  \\\n",
       "0                    Personal   3015.0            NaN             1   \n",
       "1  Teaching/Learning/Research   3016.0            NaN             1   \n",
       "2                    Personal      NaN            NaN             0   \n",
       "3  Teaching/Learning/Research   3017.0            NaN             1   \n",
       "4              Administrative   3018.0            NaN             1   \n",
       "\n",
       "   wizard_completed            starttime              endtime anon_login  \n",
       "0                 1  2015-11-09 14:30:15  2015-11-09 14:39:07  darlene04  \n",
       "1                 1  2015-11-09 21:26:23  2015-11-09 21:30:01   warren20  \n",
       "2                 0  2015-11-10 11:07:50  2015-11-10 11:07:50      xwood  \n",
       "3                 1  2015-11-10 11:24:52  2015-11-10 11:25:44   warren20  \n",
       "4                 1  2015-11-10 11:44:30  2015-11-10 11:48:44    kevin06  "
      ]
     },
     "execution_count": 3,
     "metadata": {},
     "output_type": "execute_result"
    }
   ],
   "source": [
    "df.head()"
   ]
  },
  {
   "cell_type": "markdown",
   "metadata": {},
   "source": [
    "To start the analysis, I wanted to know what our completion rate was."
   ]
  },
  {
   "cell_type": "code",
   "execution_count": 4,
   "metadata": {},
   "outputs": [
    {
     "data": {
      "text/plain": [
       "Text(0.5,0,'Process Completed (Boolean)')"
      ]
     },
     "execution_count": 4,
     "metadata": {},
     "output_type": "execute_result"
    },
    {
     "data": {
      "image/png": "[encoded data removed]",
      "text/plain": [
       "<Figure size 432x288 with 1 Axes>"
      ]
     },
     "metadata": {
      "needs_background": "light"
     },
     "output_type": "display_data"
    }
   ],
   "source": [
    "completion = df['wizard_completed'].value_counts()\n",
    "\n",
    "sns.barplot(completion.index, completion.values)\n",
    "plt.title('Site Completion')\n",
    "plt.ylabel('Number of sites')\n",
    "plt.xlabel('Process Completed (Boolean)')\n",
    "# plt.savefig('raw_completion.png', dpi=200)"
   ]
  },
  {
   "cell_type": "code",
   "execution_count": 5,
   "metadata": {},
   "outputs": [
    {
     "data": {
      "text/plain": [
       "1    6675\n",
       "0    1577\n",
       "Name: wizard_completed, dtype: int64"
      ]
     },
     "execution_count": 5,
     "metadata": {},
     "output_type": "execute_result"
    }
   ],
   "source": [
    "completion"
   ]
  },
  {
   "cell_type": "markdown",
   "metadata": {},
   "source": [
    "We can see that of 8252 attempts, 1577 abandoned. (19%)\n",
    "\n",
    "Next question is \"where did they leave the process?\""
   ]
  },
  {
   "cell_type": "code",
   "execution_count": 49,
   "metadata": {},
   "outputs": [
    {
     "data": {
      "image/png": "[encoded data removed]",
      "text/plain": [
       "<Figure size 432x288 with 1 Axes>"
      ]
     },
     "metadata": {
      "needs_background": "light"
     },
     "output_type": "display_data"
    }
   ],
   "source": [
    "# check the next stage for all sites\n",
    "left_process = df['next_stage'].value_counts().sort_index()\n",
    "\n",
    "sns.barplot(left_process.index, left_process.values)\n",
    "plt.title('Process Abandonment')\n",
    "plt.ylabel('Number of sites')\n",
    "plt.xlabel('Next step')\n",
    "# plt.savefig('raw_abandonment.png', dpi=200)"
   ]
  },
  {
   "cell_type": "markdown",
   "metadata": {},
   "source": [
    "ssw_step2 is higher than expected.  It seems to make sense that most would leave at the final step \"ssw_finish\".\n",
    "\n",
    "Now, I'll check for sites where the process was not completed, according to the data.  (It should be noted that at some point the accuracy of this could come into question as we recently had to implement a bit of code to set their site creation process as completed to fix a bug.  For my initial research, I'm not concerned.)"
   ]
  },
  {
   "cell_type": "code",
   "execution_count": 6,
   "metadata": {},
   "outputs": [
    {
     "data": {
      "text/plain": [
       "Text(0.5,0,'Next step')"
      ]
     },
     "execution_count": 6,
     "metadata": {},
     "output_type": "execute_result"
    },
    {
     "data": {
      "image/png": "[encoded data removed]",
      "text/plain": [
       "<Figure size 432x288 with 1 Axes>"
      ]
     },
     "metadata": {
      "needs_background": "light"
     },
     "output_type": "display_data"
    }
   ],
   "source": [
    "# check next stage for sites that were not completed\n",
    "# shows that all process abandonment happened on the first page\n",
    "# ssw_finish, but wizard_complete = 0 seems like a bug\n",
    "l_process_incomplete = df['next_stage'].loc[df['wizard_completed'] == 0].value_counts().sort_index()\n",
    "\n",
    "sns.barplot(l_process_incomplete.index, l_process_incomplete.values)\n",
    "plt.title('Process Abandonment for incomplete sites')\n",
    "plt.ylabel('Number of sites')\n",
    "plt.xlabel('Next step')\n",
    "# plt.savefig('incomplete_abandonment.png', dpi=200)"
   ]
  },
  {
   "cell_type": "markdown",
   "metadata": {},
   "source": [
    "We can see that most users who abandon, abandon on the first step.\n",
    "\n",
    "Next, what types of users are creating sites?"
   ]
  },
  {
   "cell_type": "code",
   "execution_count": 7,
   "metadata": {},
   "outputs": [
    {
     "data": {
      "text/plain": [
       "Text(0.5,0,'Role')"
      ]
     },
     "execution_count": 7,
     "metadata": {},
     "output_type": "execute_result"
    },
    {
     "data": {
      "image/png": "[encoded data removed]",
      "text/plain": [
       "<Figure size 432x288 with 1 Axes>"
      ]
     },
     "metadata": {
      "needs_background": "light"
     },
     "output_type": "display_data"
    }
   ],
   "source": [
    "roles = df['u_role'].value_counts()\n",
    "\n",
    "sns.barplot(roles.index, roles.values)\n",
    "plt.title('SSW User Roles')\n",
    "plt.ylabel('Number of Users')\n",
    "plt.xlabel('Role')\n",
    "# plt.savefig('user_role', dpi=200)"
   ]
  },
  {
   "cell_type": "markdown",
   "metadata": {},
   "source": [
    "Our system is closed to alumni, so these alumni were students when they created their sites. (Or, the vast majority were.  If you complete a degree at NYU, work as staff for 20 years, and then leave the university, your role will also revert to alumni.)\n",
    "\n",
    "With that in mind, I will change alumni to students and recreate the visualization."
   ]
  },
  {
   "cell_type": "code",
   "execution_count": 12,
   "metadata": {},
   "outputs": [],
   "source": [
    "df['u_role'].replace('Alumni', 'Student', inplace=True)"
   ]
  },
  {
   "cell_type": "code",
   "execution_count": 14,
   "metadata": {},
   "outputs": [
    {
     "data": {
      "text/plain": [
       "Text(0.5,0,'Role')"
      ]
     },
     "execution_count": 14,
     "metadata": {},
     "output_type": "execute_result"
    },
    {
     "data": {
      "image/png": "[encoded data removed]",
      "text/plain": [
       "<Figure size 432x288 with 1 Axes>"
      ]
     },
     "metadata": {
      "needs_background": "light"
     },
     "output_type": "display_data"
    }
   ],
   "source": [
    "roles = df['u_role'].value_counts()\n",
    "\n",
    "sns.barplot(roles.index, roles.values)\n",
    "plt.title('SSW User Roles')\n",
    "plt.ylabel('Number of Users')\n",
    "plt.xlabel('Role')"
   ]
  },
  {
   "cell_type": "markdown",
   "metadata": {},
   "source": [
    "The data so far has suggested that students are most commonly using this process for site creation.\n",
    "\n",
    "Next, I'd like to see if any groups are particularly prone to not completing creation."
   ]
  },
  {
   "cell_type": "code",
   "execution_count": 15,
   "metadata": {},
   "outputs": [],
   "source": [
    "role = df[['u_role', 'wizard_completed','ssw_id']].groupby(['wizard_completed','u_role']).count()"
   ]
  },
  {
   "cell_type": "code",
   "execution_count": 16,
   "metadata": {},
   "outputs": [
    {
     "data": {
      "text/html": [
       "<div>\n",
       "<style scoped>\n",
       "    .dataframe tbody tr th:only-of-type {\n",
       "        vertical-align: middle;\n",
       "    }\n",
       "\n",
       "    .dataframe tbody tr th {\n",
       "        vertical-align: top;\n",
       "    }\n",
       "\n",
       "    .dataframe thead th {\n",
       "        text-align: right;\n",
       "    }\n",
       "</style>\n",
       "<table border=\"1\" class=\"dataframe\">\n",
       "  <thead>\n",
       "    <tr style=\"text-align: right;\">\n",
       "      <th></th>\n",
       "      <th></th>\n",
       "      <th>ssw_id</th>\n",
       "    </tr>\n",
       "    <tr>\n",
       "      <th>wizard_completed</th>\n",
       "      <th>u_role</th>\n",
       "      <th></th>\n",
       "    </tr>\n",
       "  </thead>\n",
       "  <tbody>\n",
       "    <tr>\n",
       "      <th rowspan=\"4\" valign=\"top\">0</th>\n",
       "      <th>Faculty</th>\n",
       "      <td>139</td>\n",
       "    </tr>\n",
       "    <tr>\n",
       "      <th>Other</th>\n",
       "      <td>16</td>\n",
       "    </tr>\n",
       "    <tr>\n",
       "      <th>Staff</th>\n",
       "      <td>257</td>\n",
       "    </tr>\n",
       "    <tr>\n",
       "      <th>Student</th>\n",
       "      <td>915</td>\n",
       "    </tr>\n",
       "    <tr>\n",
       "      <th rowspan=\"4\" valign=\"top\">1</th>\n",
       "      <th>Faculty</th>\n",
       "      <td>735</td>\n",
       "    </tr>\n",
       "    <tr>\n",
       "      <th>Other</th>\n",
       "      <td>65</td>\n",
       "    </tr>\n",
       "    <tr>\n",
       "      <th>Staff</th>\n",
       "      <td>1133</td>\n",
       "    </tr>\n",
       "    <tr>\n",
       "      <th>Student</th>\n",
       "      <td>3227</td>\n",
       "    </tr>\n",
       "  </tbody>\n",
       "</table>\n",
       "</div>"
      ],
      "text/plain": [
       "                          ssw_id\n",
       "wizard_completed u_role         \n",
       "0                Faculty     139\n",
       "                 Other        16\n",
       "                 Staff       257\n",
       "                 Student     915\n",
       "1                Faculty     735\n",
       "                 Other        65\n",
       "                 Staff      1133\n",
       "                 Student    3227"
      ]
     },
     "execution_count": 16,
     "metadata": {},
     "output_type": "execute_result"
    }
   ],
   "source": [
    "role"
   ]
  },
  {
   "cell_type": "code",
   "execution_count": 17,
   "metadata": {},
   "outputs": [
    {
     "data": {
      "text/html": [
       "<div>\n",
       "<style scoped>\n",
       "    .dataframe tbody tr th:only-of-type {\n",
       "        vertical-align: middle;\n",
       "    }\n",
       "\n",
       "    .dataframe tbody tr th {\n",
       "        vertical-align: top;\n",
       "    }\n",
       "\n",
       "    .dataframe thead tr th {\n",
       "        text-align: left;\n",
       "    }\n",
       "\n",
       "    .dataframe thead tr:last-of-type th {\n",
       "        text-align: right;\n",
       "    }\n",
       "</style>\n",
       "<table border=\"1\" class=\"dataframe\">\n",
       "  <thead>\n",
       "    <tr>\n",
       "      <th></th>\n",
       "      <th colspan=\"2\" halign=\"left\">ssw_id</th>\n",
       "    </tr>\n",
       "    <tr>\n",
       "      <th>wizard_completed</th>\n",
       "      <th>0</th>\n",
       "      <th>1</th>\n",
       "    </tr>\n",
       "    <tr>\n",
       "      <th>u_role</th>\n",
       "      <th></th>\n",
       "      <th></th>\n",
       "    </tr>\n",
       "  </thead>\n",
       "  <tbody>\n",
       "    <tr>\n",
       "      <th>Faculty</th>\n",
       "      <td>139</td>\n",
       "      <td>735</td>\n",
       "    </tr>\n",
       "    <tr>\n",
       "      <th>Other</th>\n",
       "      <td>16</td>\n",
       "      <td>65</td>\n",
       "    </tr>\n",
       "    <tr>\n",
       "      <th>Staff</th>\n",
       "      <td>235</td>\n",
       "      <td>1044</td>\n",
       "    </tr>\n",
       "    <tr>\n",
       "      <th>Student</th>\n",
       "      <td>915</td>\n",
       "      <td>3227</td>\n",
       "    </tr>\n",
       "  </tbody>\n",
       "</table>\n",
       "</div>"
      ],
      "text/plain": [
       "                 ssw_id      \n",
       "wizard_completed      0     1\n",
       "u_role                       \n",
       "Faculty             139   735\n",
       "Other                16    65\n",
       "Staff               235  1044\n",
       "Student             915  3227"
      ]
     },
     "execution_count": 17,
     "metadata": {},
     "output_type": "execute_result"
    }
   ],
   "source": [
    "com_role = pd.pivot_table(df[['u_role', 'wizard_completed', 'ssw_id']], index='u_role', columns='wizard_completed', aggfunc=pd.Series.nunique)\n",
    "\n",
    "com_role"
   ]
  },
  {
   "cell_type": "markdown",
   "metadata": {},
   "source": [
    "Next up, I want a rough idea of how many sites are creating.  The clients we most often interact with create many sites, so I'm curious if that is true across more of our customers. However, the data shows that the vast majority of users only create a single site, and about 700-800 have created 2. (I'm excluding this specific user_id here as it regularly creates and deletes sites as part of automated testing.)"
   ]
  },
  {
   "cell_type": "code",
   "execution_count": 23,
   "metadata": {},
   "outputs": [
    {
     "data": {
      "text/plain": [
       "Text(0.5,0,'Number of sites')"
      ]
     },
     "execution_count": 23,
     "metadata": {},
     "output_type": "execute_result"
    },
    {
     "data": {
      "image/png": "[encoded data removed]",
      "text/plain": [
       "<Figure size 432x288 with 1 Axes>"
      ]
     },
     "metadata": {
      "needs_background": "light"
     },
     "output_type": "display_data"
    }
   ],
   "source": [
    "netid_count = df['anon_login'].loc[df['user_id'] != 20636].value_counts()\n",
    "\n",
    "sns.distplot(netid_count, kde=False)\n",
    "plt.title('Distribution of SSW Use')\n",
    "plt.ylabel('Number of Users')\n",
    "plt.xlabel('Number of sites')\n",
    "# plt.savefig('ssw_dist', dpi=200)"
   ]
  },
  {
   "cell_type": "markdown",
   "metadata": {},
   "source": [
    "Next question: How long does it take people to complete or not complete the process?\n",
    "\n",
    "This required lots of time working with timestamp conversions."
   ]
  },
  {
   "cell_type": "code",
   "execution_count": 24,
   "metadata": {},
   "outputs": [],
   "source": [
    "df['dur'] = pd.to_datetime(df['endtime']).astype('datetime64[s]') - pd.to_datetime(df['starttime']).astype('datetime64[s]')"
   ]
  },
  {
   "cell_type": "code",
   "execution_count": 26,
   "metadata": {},
   "outputs": [],
   "source": [
    "# not sure if this is needed\n",
    "dur_delta = df['dur']"
   ]
  },
  {
   "cell_type": "code",
   "execution_count": 27,
   "metadata": {},
   "outputs": [
    {
     "data": {
      "text/plain": [
       "0 days 00:00:00      1535\n",
       "0 days 00:00:16       104\n",
       "0 days 00:00:12        97\n",
       "0 days 00:00:15        90\n",
       "0 days 00:00:11        87\n",
       "0 days 00:00:14        70\n",
       "0 days 00:00:17        42\n",
       "0 days 00:00:26        40\n",
       "0 days 00:02:12        27\n",
       "0 days 00:01:52        26\n",
       "0 days 00:00:18        23\n",
       "0 days 00:01:45        23\n",
       "0 days 00:01:36        23\n",
       "0 days 00:00:55        23\n",
       "0 days 00:01:58        22\n",
       "0 days 00:02:47        21\n",
       "0 days 00:02:55        21\n",
       "0 days 00:02:59        21\n",
       "0 days 00:02:11        21\n",
       "0 days 00:01:30        21\n",
       "0 days 00:02:29        21\n",
       "0 days 00:03:01        20\n",
       "0 days 00:01:51        20\n",
       "0 days 00:03:00        20\n",
       "0 days 00:00:20        20\n",
       "0 days 00:02:17        20\n",
       "0 days 00:02:38        20\n",
       "0 days 00:02:06        20\n",
       "0 days 00:02:30        20\n",
       "0 days 00:01:48        20\n",
       "                     ... \n",
       "2 days 23:48:18         1\n",
       "67 days 22:40:46        1\n",
       "63 days 06:19:14        1\n",
       "16 days 01:50:07        1\n",
       "0 days 09:39:55         1\n",
       "126 days 03:15:05       1\n",
       "8 days 08:17:27         1\n",
       "0 days 19:29:23         1\n",
       "0 days 04:15:51         1\n",
       "16 days 07:26:08        1\n",
       "0 days 03:19:33         1\n",
       "0 days 00:25:20         1\n",
       "0 days 00:51:43         1\n",
       "6 days 21:46:52         1\n",
       "2 days 04:26:25         1\n",
       "477 days 23:10:54       1\n",
       "2 days 00:26:52         1\n",
       "0 days 00:46:23         1\n",
       "71 days 00:59:52        1\n",
       "111 days 20:42:30       1\n",
       "1 days 18:10:13         1\n",
       "0 days 00:37:19         1\n",
       "35 days 23:07:17        1\n",
       "0 days 00:13:36         1\n",
       "2 days 02:20:53         1\n",
       "151 days 03:25:41       1\n",
       "0 days 00:17:20         1\n",
       "0 days 00:17:52         1\n",
       "75 days 19:29:49        1\n",
       "356 days 06:27:01       1\n",
       "Name: dur, Length: 1908, dtype: int64"
      ]
     },
     "execution_count": 27,
     "metadata": {},
     "output_type": "execute_result"
    }
   ],
   "source": [
    "# duration in seconds\n",
    "df['dur'].value_counts()"
   ]
  },
  {
   "cell_type": "markdown",
   "metadata": {},
   "source": [
    "There are some crazy outliers, so I'm limiting my research to those who took between 1 second and 1 hour to create a site."
   ]
  },
  {
   "cell_type": "code",
   "execution_count": 28,
   "metadata": {},
   "outputs": [],
   "source": [
    "delta_h = df['dur'].loc[(df['dur'] < pd.Timedelta(3600, 's')) &\\\n",
    "                       (df['dur'] > pd.Timedelta(1, 's'))]"
   ]
  },
  {
   "cell_type": "code",
   "execution_count": 29,
   "metadata": {},
   "outputs": [
    {
     "data": {
      "text/plain": [
       "count                      5837\n",
       "mean     0 days 00:05:15.880931\n",
       "std      0 days 00:07:01.163403\n",
       "min             0 days 00:00:11\n",
       "25%             0 days 00:01:43\n",
       "50%             0 days 00:03:21\n",
       "75%             0 days 00:06:07\n",
       "max             0 days 00:58:22\n",
       "Name: dur, dtype: object"
      ]
     },
     "execution_count": 29,
     "metadata": {},
     "output_type": "execute_result"
    }
   ],
   "source": [
    "delta_h.describe()"
   ]
  },
  {
   "cell_type": "code",
   "execution_count": 30,
   "metadata": {},
   "outputs": [
    {
     "data": {
      "image/png": "[encoded data removed]",
      "text/plain": [
       "<Figure size 432x288 with 1 Axes>"
      ]
     },
     "metadata": {
      "needs_background": "light"
     },
     "output_type": "display_data"
    }
   ],
   "source": [
    "sns.distplot(delta_h.astype('timedelta64[s]'), kde=False)\n",
    "plt.title('Distribution of SSW Duration')\n",
    "plt.ylabel('Number of Users')\n",
    "plt.xlabel('Duration (Seconds)')\n",
    "# plt.savefig('ssw_timedelta_dist', dpi=200)"
   ]
  },
  {
   "cell_type": "markdown",
   "metadata": {},
   "source": [
    "The distribution was a relief to see, as our users are currently not spending an inordinate amount of time on the process, for the most part.\n",
    "\n",
    "## Conclusion\n",
    "\n",
    "Overall, this data led to a couple of outcomes:\n",
    "1. The qualitative user research is starting with a focus on students.  They are the largest population of users within the product, and they are also our main source of new sites through the SSW. Keeping them happy and ensuring they can easily create sites is important for keeping the product healthy.\n",
    "2. The majority of users only create a single site in the system.  This suggests that we should first focus on the single site creation process, before looking at features for more advanced users, such as bulk site creation.\n",
    "3. Overall, there are no specific roles that have trouble with a particular step of the process.\n",
    "\n",
    "There are always more insights that could be pulled from this data, but for now this was enough to set the direction of our qualitative research."
   ]
  },
  {
   "cell_type": "code",
   "execution_count": null,
   "metadata": {},
   "outputs": [],
   "source": []
  }
 ],
 "metadata": {
  "kernelspec": {
   "display_name": "Python 2",
   "language": "python",
   "name": "python2"
  },
  "language_info": {
   "codemirror_mode": {
    "name": "ipython",
    "version": 2
   },
   "file_extension": ".py",
   "mimetype": "text/x-python",
   "name": "python",
   "nbconvert_exporter": "python",
   "pygments_lexer": "ipython2",
   "version": "2.7.15"
  }
 },
 "nbformat": 4,
 "nbformat_minor": 2
}
