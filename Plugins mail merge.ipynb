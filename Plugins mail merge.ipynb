{
 "cells": [
  {
   "cell_type": "code",
   "execution_count": 68,
   "metadata": {},
   "outputs": [],
   "source": [
    "import pandas as pd"
   ]
  },
  {
   "cell_type": "code",
   "execution_count": 69,
   "metadata": {},
   "outputs": [],
   "source": [
    "df = pd.read_csv('plugins.csv')"
   ]
  },
  {
   "cell_type": "code",
   "execution_count": 70,
   "metadata": {},
   "outputs": [],
   "source": [
    "# trim unnecessary columns\n",
    "# group according to admin email and sum the values\n",
    "df_agg = df[['path',\n",
    "       'admin_email', 'theme',\n",
    "       'attachment-importer', 'autoblog',\n",
    "       'bbpress',\n",
    "       'contus-video-gallery',  'every-calendar-1', 'footnotes',  'leaflet-maps-marker',\n",
    "       'legacy-jetpack-custom-css-editor', 'lock-posts', 'nextgen-gallery', 'photo-video-gallery-master',\n",
    "       'pinterest-rss-widget',  'syntaxhighlighter', 'tt-guest-post-submit',\n",
    "       'tumblr-widget-for-wordpress', 'wp-pro-quiz',\n",
    "       'wp-recaptcha','wpmu-dev-post-votes', 'wpmu_dev_maps_plugin', 'yop-poll']].groupby('admin_email').aggregate('sum')"
   ]
  },
  {
   "cell_type": "code",
   "execution_count": 60,
   "metadata": {},
   "outputs": [],
   "source": [
    "# use almost the same list of columns to get a list of relevant plugins\n",
    "plugins_list = ['attachment-importer', 'autoblog',\n",
    "       'bbpress',\n",
    "       'contus-video-gallery',  'every-calendar-1', 'footnotes',  'leaflet-maps-marker',\n",
    "       'legacy-jetpack-custom-css-editor', 'lock-posts', 'nextgen-gallery', 'photo-video-gallery-master',\n",
    "       'pinterest-rss-widget',  'syntaxhighlighter', 'tt-guest-post-submit',\n",
    "       'tumblr-widget-for-wordpress', 'wp-pro-quiz',\n",
    "       'wp-recaptcha','wpmu-dev-post-votes', 'wpmu_dev_maps_plugin', 'yop-poll']"
   ]
  },
  {
   "cell_type": "code",
   "execution_count": 73,
   "metadata": {},
   "outputs": [],
   "source": [
    "# remove any users who have no plugins on the list activated\n",
    "df_agg = df_agg[df_agg.sum(axis=1) > 0]"
   ]
  },
  {
   "cell_type": "code",
   "execution_count": 74,
   "metadata": {},
   "outputs": [
    {
     "name": "stderr",
     "output_type": "stream",
     "text": [
      "/Users/peterarbaugh/anaconda3/lib/python3.6/site-packages/pandas/core/indexing.py:189: SettingWithCopyWarning: \n",
      "A value is trying to be set on a copy of a slice from a DataFrame\n",
      "\n",
      "See the caveats in the documentation: http://pandas.pydata.org/pandas-docs/stable/indexing.html#indexing-view-versus-copy\n",
      "  self._setitem_with_indexer(indexer, value)\n"
     ]
    }
   ],
   "source": [
    "# to-do: improve this code\n",
    "# if a user has any site with the plugin activated (sum in the field is > 0), replace value with plugin name string\n",
    "df_agg['attachment-importer'].loc[(df_agg['attachment-importer']!=0)] = 'Attachment Importer'\n",
    "df_agg['autoblog'].loc[df_agg['autoblog'] !=0] = 'Autoblog'\n",
    "df_agg['bbpress'].loc[df_agg['bbpress'] !=0] = 'bbPress'\n",
    "df_agg['contus-video-gallery'].loc[df_agg['contus-video-gallery'] !=0] = 'WP Video Gallery'\n",
    "df_agg['every-calendar-1'].loc[df_agg['every-calendar-1'] !=0] = 'Every Calendar +1'\n",
    "df_agg['footnotes'].loc[df_agg['footnotes'] !=0] = 'Footnotes'\n",
    "df_agg['leaflet-maps-marker'].loc[df_agg['leaflet-maps-marker'] !=0] = 'Leaflet Maps Marker'\n",
    "df_agg['legacy-jetpack-custom-css-editor'].loc[df_agg['legacy-jetpack-custom-css-editor'] !=0] = 'Legacy Jetpack Custom CSS Editor'\n",
    "df_agg['lock-posts'].loc[df_agg['lock-posts'] !=0] = 'Lock Posts'\n",
    "df_agg['nextgen-gallery'].loc[df_agg['nextgen-gallery'] !=0] = 'NextGen Gallery'\n",
    "df_agg['photo-video-gallery-master'].loc[df_agg['photo-video-gallery-master'] !=0] = 'Photo Video Gallery Master'\n",
    "df_agg['pinterest-rss-widget'].loc[df_agg['pinterest-rss-widget'] !=0] = 'Pinterest Widget'\n",
    "df_agg['syntaxhighlighter'].loc[df_agg['syntaxhighlighter'] !=0] = 'Syntax Highlighter Evolved'\n",
    "df_agg['tt-guest-post-submit'].loc[df_agg['tt-guest-post-submit'] !=0] = 'TT Guest Post Submit'\n",
    "df_agg['tumblr-widget-for-wordpress'].loc[df_agg['tumblr-widget-for-wordpress'] !=0] = 'Tumblr Widget'\n",
    "df_agg['wp-pro-quiz'].loc[df_agg['wp-pro-quiz'] !=0] = 'Quiz Creator (WP Pro Quiz)'\n",
    "df_agg['wp-recaptcha'].loc[df_agg['wp-recaptcha'] !=0] = 'WP ReCaptcha'\n",
    "df_agg['wpmu-dev-post-votes'].loc[df_agg['wpmu-dev-post-votes'] !=0] = 'Post Voting'\n",
    "df_agg['wpmu_dev_maps_plugin'].loc[df_agg['wpmu_dev_maps_plugin'] !=0] = 'Google Maps Pro'\n",
    "df_agg['yop-poll'].loc[df_agg['yop-poll'] !=0] = 'Polling'"
   ]
  },
  {
   "cell_type": "code",
   "execution_count": 75,
   "metadata": {},
   "outputs": [],
   "source": [
    "# iterate through each field in a row and add rows that != 0 (that have text) to a list\n",
    "# return the list\n",
    "def f(x):\n",
    "    out = []\n",
    "    for i in x:\n",
    "        if i != 0:\n",
    "            out.append(i)\n",
    "    return out"
   ]
  },
  {
   "cell_type": "code",
   "execution_count": 76,
   "metadata": {},
   "outputs": [],
   "source": [
    "# apply function to each row in the df and create a new field with the final list\n",
    "df_agg['p_list'] = df_agg[plugins_list].apply(lambda row: f(row), axis=1)"
   ]
  },
  {
   "cell_type": "code",
   "execution_count": 77,
   "metadata": {},
   "outputs": [],
   "source": [
    "#build that list out into a new dataframe for mail merge\n",
    "final = df_agg['p_list'].apply(pd.Series)"
   ]
  },
  {
   "cell_type": "code",
   "execution_count": 79,
   "metadata": {},
   "outputs": [],
   "source": [
    "final.to_csv('plugin removal mail merge 122018')"
   ]
  }
 ],
 "metadata": {
  "kernelspec": {
   "display_name": "Python 3",
   "language": "python",
   "name": "python3"
  },
  "language_info": {
   "codemirror_mode": {
    "name": "ipython",
    "version": 3
   },
   "file_extension": ".py",
   "mimetype": "text/x-python",
   "name": "python",
   "nbconvert_exporter": "python",
   "pygments_lexer": "ipython3",
   "version": "3.6.5"
  }
 },
 "nbformat": 4,
 "nbformat_minor": 2
}
